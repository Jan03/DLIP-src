{
  "nbformat": 4,
  "nbformat_minor": 0,
  "metadata": {
    "colab": {
      "name": "Tutorial_PythonBasics_2021",
      "provenance": [],
      "collapsed_sections": [
        "LnTAQlDLYfY_",
        "VCLfpVvrZZY9"
      ],
      "authorship_tag": "ABX9TyP4rN+Ff6gRfb0j6OqumSfq",
      "include_colab_link": true
    },
    "kernelspec": {
      "name": "python3",
      "display_name": "Python 3"
    },
    "language_info": {
      "name": "python"
    }
  },
  "cells": [
    {
      "cell_type": "markdown",
      "metadata": {
        "id": "view-in-github",
        "colab_type": "text"
      },
      "source": [
        "<a href=\"https://colab.research.google.com/github/ykkimhgu/DLIP-src/blob/main/Tutorial_PythonBasics_2021.ipynb\" target=\"_parent\"><img src=\"https://colab.research.google.com/assets/colab-badge.svg\" alt=\"Open In Colab\"/></a>"
      ]
    },
    {
      "cell_type": "code",
      "metadata": {
        "id": "eRL3PQ7KX5tc"
      },
      "source": [
        ""
      ],
      "execution_count": null,
      "outputs": []
    },
    {
      "cell_type": "markdown",
      "metadata": {
        "id": "LnTAQlDLYfY_"
      },
      "source": [
        "# Python Basics \n",
        "We will use the Python and Numpy for Deep Learning assignments in this course. \n",
        "\n",
        "Python is a great general-purpose programming language on its own, but with the help of a few popular libraries (numpy, scipy, matplotlib) it becomes a powerful environment for scientific computing.\n",
        "\n",
        "This tutorial is created from various references\n",
        "\n",
        "1) Python Numpy Tutorial by CS231n : https://cs231n.github.io/python-numpy-tutorial/\n",
        "2) https://www.w3schools.com/python/\n",
        "3) A Crash Course in Python for Scientists by  Rick Muller:  https://nbviewer.jupyter.org/gist/rpmuller/5920182#ii.-numpy-and-scipy\n",
        "\n",
        "\n",
        "\n"
      ]
    },
    {
      "cell_type": "markdown",
      "metadata": {
        "id": "VCLfpVvrZZY9"
      },
      "source": [
        "## Python Versions\n",
        "We will use Python 3.7, follow how to install Python in the course website.  "
      ]
    },
    {
      "cell_type": "code",
      "metadata": {
        "id": "PDYFZSOaZ0Nn"
      },
      "source": [
        ""
      ],
      "execution_count": null,
      "outputs": []
    },
    {
      "cell_type": "markdown",
      "metadata": {
        "id": "qCkoYKrMZ0jw"
      },
      "source": [
        "# Python Indentation\n",
        "Python uses indentation to indicate a block of code."
      ]
    },
    {
      "cell_type": "code",
      "metadata": {
        "colab": {
          "base_uri": "https://localhost:8080/"
        },
        "id": "qaMYdJtDZ86B",
        "outputId": "8cf4289f-21a3-418a-cdbe-dd81a16f7e7b"
      },
      "source": [
        "# This gives no error\n",
        "\n",
        "if 5 > 2:\n",
        " print(\"Five is greater than two!\") \n",
        "if 5 > 2:\n",
        "        print(\"Five is greater than two!\") "
      ],
      "execution_count": 1,
      "outputs": [
        {
          "output_type": "stream",
          "text": [
            "Five is greater than two!\n",
            "Five is greater than two!\n"
          ],
          "name": "stdout"
        }
      ]
    },
    {
      "cell_type": "code",
      "metadata": {
        "id": "LFfh22DGaGdg"
      },
      "source": [
        "# This will give errors. Correct this.\n",
        "\n",
        "if 5 > 2:\n",
        " print(\"Five is greater than two!\")\n",
        "        print(\"Five is greater than two!\")"
      ],
      "execution_count": null,
      "outputs": []
    },
    {
      "cell_type": "markdown",
      "metadata": {
        "id": "ZUc1CrNCacez"
      },
      "source": [
        "#  Data Types\n",
        "Python has the following data types built-in by default, in these categories:\n",
        "\n",
        "* Text Type:\tstr\n",
        "* Numeric Types:\tint, float, complex\n",
        "* Sequence Types:\tlist, tuple, range\n",
        "* Mapping Type:\tdict\n",
        "* Set Types:\tset, frozenset\n",
        "* Boolean Type:\tbool\n",
        "* Binary Types:\tbytes, bytearray, memoryview"
      ]
    },
    {
      "cell_type": "markdown",
      "metadata": {
        "id": "3qySWKEnbWpL"
      },
      "source": [
        "## Numeric and Text Types"
      ]
    },
    {
      "cell_type": "code",
      "metadata": {
        "colab": {
          "base_uri": "https://localhost:8080/"
        },
        "id": "TCwRkcVdapPS",
        "outputId": "b6fa5a92-bcf2-4ca0-e45d-d0c2bea9238a"
      },
      "source": [
        "# Try it \n",
        "\n",
        "x = \"Hello World\"\n",
        "y = 5\n",
        "z = -87.7e100\n",
        "\n",
        "#display x:\n",
        "print(x)\n",
        "print(y)\n",
        "print(z)\n",
        "\n",
        "#display the data type of x:\n",
        "print(type(x)) \n",
        "print(type(y)) \n",
        "print(type(z)) "
      ],
      "execution_count": 7,
      "outputs": [
        {
          "output_type": "stream",
          "text": [
            "Hello World\n",
            "5\n",
            "-8.77e+101\n",
            "<class 'str'>\n",
            "<class 'int'>\n",
            "<class 'float'>\n"
          ],
          "name": "stdout"
        }
      ]
    },
    {
      "cell_type": "markdown",
      "metadata": {
        "id": "ce2A94X2dgP0"
      },
      "source": [
        "## Number operations\n",
        "familiar from other programming languages.\n",
        "* Python does not have unary increment (x++) or decrement (x--) operators.\n"
      ]
    },
    {
      "cell_type": "code",
      "metadata": {
        "colab": {
          "base_uri": "https://localhost:8080/"
        },
        "id": "7YpKw-JCdpBk",
        "outputId": "111f58e4-234c-419d-dc30-73980cd51b90"
      },
      "source": [
        "x = 3\n",
        "print(x + 1)   # Addition; prints \"4\"\n",
        "print(x * 2)   # Multiplication; prints \"6\"\n",
        "print(x ** 2)  # Exponentiation; prints \"9\"\n",
        "x += 1\n",
        "print(x)  # Prints \"4\"\n",
        "x *= 2\n",
        "print(x)  # Prints \"8\"\n",
        "\n",
        "y = 4\n",
        "print(y, y + 1, y * 2, y ** 2) "
      ],
      "execution_count": 13,
      "outputs": [
        {
          "output_type": "stream",
          "text": [
            "4\n",
            "6\n",
            "9\n",
            "4\n",
            "8\n",
            "4 5 8 16\n"
          ],
          "name": "stdout"
        }
      ]
    },
    {
      "cell_type": "markdown",
      "metadata": {
        "id": "sRbSNGf0eQLW"
      },
      "source": [
        "## String Operations\n",
        "\n",
        "use either 'text' or \"text\"."
      ]
    },
    {
      "cell_type": "code",
      "metadata": {
        "colab": {
          "base_uri": "https://localhost:8080/"
        },
        "id": "3OyQOGVjeUvX",
        "outputId": "14cabc9c-4186-4edd-dfee-35afeecdb5bd"
      },
      "source": [
        "hello = 'hello'    # String literals can use single quotes\n",
        "world = \"world\"    # or double quotes; it does not matter.\n",
        "year=2021\n",
        "\n",
        "print(hello)       # Prints \"hello\"\n",
        "print(len(hello))  # String length; prints \"5\"\n",
        "\n",
        "hw = hello + ' ' + world + ' '+str(year)  # String concatenation\n",
        "print(hw)  # prints \"hello world\"\n",
        "\n",
        "hw2021 = '%s %s %d' %(hello, world, year)  # sprintf style string formatting\n",
        "print(hw2021)  # prints \"hello world 12\""
      ],
      "execution_count": 17,
      "outputs": [
        {
          "output_type": "stream",
          "text": [
            "hello\n",
            "5\n",
            "hello world 2021\n",
            "hello world 2021\n"
          ],
          "name": "stdout"
        }
      ]
    },
    {
      "cell_type": "markdown",
      "metadata": {
        "id": "kKs4lBYScFYO"
      },
      "source": [
        "### Convert Types  \n",
        "Int <--> float   /  Int <--> String"
      ]
    },
    {
      "cell_type": "code",
      "metadata": {
        "colab": {
          "base_uri": "https://localhost:8080/"
        },
        "id": "ErtnOfVXcAh-",
        "outputId": "5123ea1e-b7a1-47a1-d973-325858f8049d"
      },
      "source": [
        "# Convert from int to float:\n",
        "\n",
        "x = 5\n",
        "y = 2.8  \n",
        "z = \"3.8\"\n",
        "\n",
        "a = float(x)\n",
        "b = int(y)\n",
        "c = float(z)\n",
        "d = str(y)\n",
        "\n",
        "print(a)\n",
        "print(b)\n",
        "print(c)\n",
        "print(d)\n",
        "\n",
        "print(type(a))\n",
        "print(type(b))\n",
        "print(type(c))\n",
        "print(type(d))"
      ],
      "execution_count": 10,
      "outputs": [
        {
          "output_type": "stream",
          "text": [
            "5.0\n",
            "2\n",
            "3.8\n",
            "2.8\n",
            "<class 'float'>\n",
            "<class 'int'>\n",
            "<class 'float'>\n",
            "<class 'str'>\n"
          ],
          "name": "stdout"
        }
      ]
    },
    {
      "cell_type": "markdown",
      "metadata": {
        "id": "fxYLjTdbfXWj"
      },
      "source": [
        "# Containers\n",
        "Python includes several built-in container types: lists, dictionaries, sets, and tuples.\n",
        "* **List** is a collection which is ordered and changeable. Allows duplicate members.\n",
        "* **Tuple** is a collection which is ordered and unchangeable. Allows duplicate members.\n",
        "* **Dictionary** is a collection which is ordered* and changeable. No duplicate members. (from Py 3.7)\n",
        "* **Set** is a collection which is unordered and unindexed. No duplicate members.\n",
        "\n",
        "### Ordered\n",
        "When we say that lists are ordered, it means that the items have a defined order, and that order will not change.\n",
        "\n",
        "If you add new items to a list, the new items will be placed at the end of the list.\n",
        "\n",
        "### Changeable\n",
        "The list is changeable, meaning that we can change, add, and remove items in a list after it has been created.\n",
        "\n",
        "### Allow Duplicates\n",
        "Since lists are indexed, lists can have items with the same value:"
      ]
    },
    {
      "cell_type": "markdown",
      "metadata": {
        "id": "MGuWKCVifJ_z"
      },
      "source": [
        "## Lists\n",
        "\n",
        "A list is the Python equivalent of an array, but is resizeable and can contain elements of different types:\n",
        "\n",
        "* Lists are created using **square brackets**:\n",
        "\n",
        "    mylist = [\"apple\", \"banana\", \"cherry\"]\n",
        "\n",
        "List items are **ordered**, **changeable**, and allow **duplicate values.**\n",
        "\n",
        "\n"
      ]
    },
    {
      "cell_type": "code",
      "metadata": {
        "colab": {
          "base_uri": "https://localhost:8080/"
        },
        "id": "J5L828Kcffya",
        "outputId": "afc39dec-a9d3-4d4a-cde4-7bfdd58f8983"
      },
      "source": [
        "# Lists allow duplicate values:\n",
        "\n",
        "thislist = [\"apple\", \"banana\", \"cherry\", \"apple\", \"cherry\"]\n",
        "\n",
        "print(thislist)\n",
        "\n",
        "print(len(thislist))\n",
        "\n",
        "\n",
        "# A list can contain different data types:\n",
        "\n",
        "list1 = [\"abc\", 34, True, 40, \"male\"]\n",
        "\n",
        "print(list1)\n",
        "\n",
        "print(len(list1))\n"
      ],
      "execution_count": 18,
      "outputs": [
        {
          "output_type": "stream",
          "text": [
            "['apple', 'banana', 'cherry', 'apple', 'cherry']\n",
            "5\n",
            "['abc', 34, True, 40, 'male']\n",
            "5\n"
          ],
          "name": "stdout"
        }
      ]
    },
    {
      "cell_type": "markdown",
      "metadata": {
        "id": "XJ--KKQqgeBW"
      },
      "source": [
        "### Accessing and Changing Lists\n",
        "\n",
        "Note: The range  will start at index St (included) and end at index En (**not included**).  (thislist[St:En]).\n",
        "\n",
        "Also, remember that the first item has index 0."
      ]
    },
    {
      "cell_type": "code",
      "metadata": {
        "colab": {
          "base_uri": "https://localhost:8080/"
        },
        "id": "193y7y9hiZgT",
        "outputId": "d839cc59-4fff-4acf-a295-26ae23d97ea4"
      },
      "source": [
        "thislist = [\"apple\", \"banana\", \"cherry\", \"apple\", \"cherry\"]\n",
        "\n",
        "print(thislist[1])\n",
        "\n",
        "# -1 refers to the last item\n",
        "print(thislist[-1])\n",
        "\n",
        "# change element\n",
        "thislist[0]=\"melon\" \n",
        "\n",
        "# range of lists\n",
        "print(thislist[0:2])\n",
        "\n"
      ],
      "execution_count": 19,
      "outputs": [
        {
          "output_type": "stream",
          "text": [
            "banana\n",
            "cherry\n",
            "['melon', 'banana']\n"
          ],
          "name": "stdout"
        }
      ]
    },
    {
      "cell_type": "markdown",
      "metadata": {
        "id": "6Xeni9gkjgRe"
      },
      "source": [
        "What output will these give? Try it yourself\n",
        "\n",
        "print(thislist[:4])\n",
        "\n",
        "print(thislist[2:])\n",
        "\n",
        "print(thislist[-2:-1])"
      ]
    },
    {
      "cell_type": "code",
      "metadata": {
        "id": "A9y5XVoskC_m"
      },
      "source": [
        "#print(thislist[:4])\n",
        "#print(thislist[2:])\n",
        "#print(thislist[-2:-1])"
      ],
      "execution_count": null,
      "outputs": []
    },
    {
      "cell_type": "markdown",
      "metadata": {
        "id": "7tcLnWUqkCxw"
      },
      "source": [
        ""
      ]
    },
    {
      "cell_type": "markdown",
      "metadata": {
        "id": "5O-koUHXfODC"
      },
      "source": [
        "## Dictionary\n",
        "A dictionary is a collection which is ordered*, changeable and does not allow duplicates.\n",
        "\n",
        "\n",
        "A dictionary stores (key : value) pairs.\n",
        "\n",
        "Dictionaries are written with **curly brackets**, and have keys and values:"
      ]
    },
    {
      "cell_type": "code",
      "metadata": {
        "colab": {
          "base_uri": "https://localhost:8080/"
        },
        "id": "siGp8EdjmnBc",
        "outputId": "cea9b22a-614a-4195-a1d6-a4b27043b924"
      },
      "source": [
        "thisdict = {\n",
        "  \"brand\": \"Ford\",\n",
        "  \"model\": \"Mustang\",\n",
        "  \"year\": 1964\n",
        "}\n",
        "\n",
        "print(thisdict)\n",
        "print(len(thisdict))\n",
        "print(thisdict[\"brand\"])"
      ],
      "execution_count": 27,
      "outputs": [
        {
          "output_type": "stream",
          "text": [
            "{'brand': 'Ford', 'model': 'Mustang', 'year': 1964}\n",
            "3\n",
            "Ford\n"
          ],
          "name": "stdout"
        }
      ]
    },
    {
      "cell_type": "markdown",
      "metadata": {
        "id": "wL_7oJ7CnCy2"
      },
      "source": [
        "The values in dictionary items can be of any data type:"
      ]
    },
    {
      "cell_type": "code",
      "metadata": {
        "colab": {
          "base_uri": "https://localhost:8080/"
        },
        "id": "V-fICrqtnIR7",
        "outputId": "60c72cb9-e63e-4523-fe64-7476c341102a"
      },
      "source": [
        "thisdict = {\n",
        "  \"brand\": \"Ford\",\n",
        "  \"electric\": False,\n",
        "  \"year\": 1964,\n",
        "  \"colors\": [\"red\", \"white\", \"blue\"]\n",
        "}\n",
        "\n",
        "print(thisdict)\n",
        "print(len(thisdict))\n",
        "print(thisdict[\"colors\"])"
      ],
      "execution_count": 30,
      "outputs": [
        {
          "output_type": "stream",
          "text": [
            "{'brand': 'Ford', 'electric': False, 'year': 1964, 'colors': ['red', 'white', 'blue']}\n",
            "4\n",
            "['red', 'white', 'blue']\n"
          ],
          "name": "stdout"
        }
      ]
    },
    {
      "cell_type": "markdown",
      "metadata": {
        "id": "DqGgW0Run1_o"
      },
      "source": [
        "Items can be added. "
      ]
    },
    {
      "cell_type": "code",
      "metadata": {
        "colab": {
          "base_uri": "https://localhost:8080/"
        },
        "id": "T9vJOJ40oEaL",
        "outputId": "da65eaa6-5556-4238-c778-b977155ba9e6"
      },
      "source": [
        "thisdict = {\n",
        "  \"brand\": \"Ford\",\n",
        "  \"electric\": False,\n",
        "  \"year\": 1964,\n",
        "  \"colors\": [\"red\", \"white\", \"blue\"]\n",
        "}\n",
        "\n",
        "thisdict[\"type\"] = \"van\"\n",
        "print(thisdict)"
      ],
      "execution_count": 31,
      "outputs": [
        {
          "output_type": "stream",
          "text": [
            "{'brand': 'Ford', 'electric': False, 'year': 1964, 'colors': ['red', 'white', 'blue'], 'color': 'red'}\n"
          ],
          "name": "stdout"
        }
      ]
    },
    {
      "cell_type": "markdown",
      "metadata": {
        "id": "WqDeWU0MbSAK"
      },
      "source": [
        "## Tuple\n",
        "\n",
        "A tuple is a collection which is ordered and **unchangeable**.\n",
        "\n",
        "Tuples are written with **round** brackets."
      ]
    },
    {
      "cell_type": "code",
      "metadata": {
        "colab": {
          "base_uri": "https://localhost:8080/"
        },
        "id": "x4KxM-sBbQfl",
        "outputId": "cd19ec82-10c5-47f9-9958-8b21226c34e9"
      },
      "source": [
        "# Try it \n",
        "\n",
        "x = (\"apple\", \"banana\", \"cherry\")\n",
        "\n",
        "#display x:\n",
        "print(x)\n",
        "#display the data type of x:\n",
        "print(type(x)) \n",
        "\n"
      ],
      "execution_count": 32,
      "outputs": [
        {
          "output_type": "stream",
          "text": [
            "('apple', 'banana', 'cherry')\n",
            "<class 'tuple'>\n"
          ],
          "name": "stdout"
        }
      ]
    },
    {
      "cell_type": "code",
      "metadata": {
        "id": "MefnYk8UfM44"
      },
      "source": [
        "# Chaning a Tuple will cause error\n",
        "\n",
        "\n",
        "x = (\"apple\", \"banana\", \"cherry\")\n",
        "x[0]=\"melon\" \n",
        "print(x)"
      ],
      "execution_count": null,
      "outputs": []
    },
    {
      "cell_type": "markdown",
      "metadata": {
        "id": "Qc0Vz3enloDx"
      },
      "source": [
        "one of the most important differences is that tuples can be used as **keys** in dictionaries and as elements of sets, while *lists cannot*"
      ]
    },
    {
      "cell_type": "code",
      "metadata": {
        "id": "u3N_8N0Ql0yj"
      },
      "source": [
        "d = {(x, x + 1): x for x in range(10)}  # Create a dictionary with tuple keys\n",
        "t = (5, 6)        # Create a tuple\n",
        "\n",
        "print(d)  \n",
        "print(type(t))    # Prints \"<class 'tuple'>\"\n",
        "print(d[t])       # Prints \"5\"\n",
        "print(d[(1, 2)])  # Prints \"1\""
      ],
      "execution_count": null,
      "outputs": []
    },
    {
      "cell_type": "markdown",
      "metadata": {
        "id": "ooV-xNL6pWGn"
      },
      "source": [
        "## Sets\n",
        "\n",
        "A set is a collection which is both **unordered** and **unindexed**.\n",
        "\n",
        "Sets are written with **curly** brackets, like Dictionary but no key:value."
      ]
    },
    {
      "cell_type": "code",
      "metadata": {
        "colab": {
          "base_uri": "https://localhost:8080/"
        },
        "id": "fppBPMKtpl6N",
        "outputId": "5d06230c-b3bb-4df9-d89b-93c7850efacb"
      },
      "source": [
        "thisset = {\"apple\", \"banana\", \"cherry\"}\n",
        "print(thisset)\n",
        "\n",
        "# Duplicate values will be ignored:\n",
        "thisset = {\"apple\", \"banana\", \"cherry\", \"apple\"}\n",
        "\n",
        "print(thisset)\n",
        "\n",
        "thisset.add('melon') \n",
        "print(thisset)"
      ],
      "execution_count": 35,
      "outputs": [
        {
          "output_type": "stream",
          "text": [
            "{'banana', 'apple', 'cherry'}\n",
            "{'banana', 'apple', 'cherry'}\n",
            "{'banana', 'apple', 'cherry', 'melon'}\n"
          ],
          "name": "stdout"
        }
      ]
    },
    {
      "cell_type": "markdown",
      "metadata": {
        "id": "A69XXJLHqY2S"
      },
      "source": [
        "# Loop"
      ]
    },
    {
      "cell_type": "markdown",
      "metadata": {
        "id": "uKUEQ89hqk5n"
      },
      "source": [
        "## Python For Loops\n",
        "\n",
        "This is less like the for keyword in other programming languages, and works more like an iterator method "
      ]
    },
    {
      "cell_type": "code",
      "metadata": {
        "id": "Ab4UgQVuqtoZ"
      },
      "source": [
        "fruits = [\"apple\", \"banana\", \"cherry\"]\n",
        "adj = [\"red\", \"big\", \"tasty\"]\n",
        "\n",
        "for x in fruits:\n",
        "  print(x)\n",
        "  if x == \"banana\":\n",
        "    break\n",
        "\n",
        "\n",
        "for x in adj:\n",
        "  for y in fruits:\n",
        "    print(x, y)"
      ],
      "execution_count": null,
      "outputs": []
    },
    {
      "cell_type": "markdown",
      "metadata": {
        "id": "f4msEhibq99_"
      },
      "source": [
        "The range() function returns a sequence of numbers, starting from 0 by default, and increments by 1 (by default), and ends at a specified number."
      ]
    },
    {
      "cell_type": "code",
      "metadata": {
        "id": "oK8-50dUq4__"
      },
      "source": [
        "for x in range(6):\n",
        "  print(x)\n",
        "\n",
        "print(\"\\n\")\n",
        "for x in range(2, 30, 3):\n",
        "  print(x)\n",
        "\n",
        "print(\"\\n\")\n",
        "for x in [-1, 0, 1]:\n",
        "  print(x*x)"
      ],
      "execution_count": null,
      "outputs": []
    },
    {
      "cell_type": "markdown",
      "metadata": {
        "id": "4TMLfpxcq4wX"
      },
      "source": [
        "Else in For Loop"
      ]
    },
    {
      "cell_type": "code",
      "metadata": {
        "id": "3NTL-kW7rKGg"
      },
      "source": [
        "\n",
        "for x in range(6):\n",
        "  print(x)\n",
        "else:\n",
        "  print(\"Finally finished!\")"
      ],
      "execution_count": null,
      "outputs": []
    },
    {
      "cell_type": "code",
      "metadata": {
        "id": "FFkDNYN4rCGY"
      },
      "source": [
        ""
      ],
      "execution_count": null,
      "outputs": []
    },
    {
      "cell_type": "markdown",
      "metadata": {
        "id": "A4HVzFDKr8If"
      },
      "source": [
        "Loop in Dictionary\n"
      ]
    },
    {
      "cell_type": "code",
      "metadata": {
        "colab": {
          "base_uri": "https://localhost:8080/"
        },
        "id": "nNZffMaFr_Gw",
        "outputId": "b97f0ade-2610-46ee-f530-7a241d276d45"
      },
      "source": [
        "thisdict = {\n",
        "  \"brand\": \"Ford\",\n",
        "  \"electric\": False,\n",
        "  \"year\": 1964,\n",
        "  \"colors\": [\"red\", \"white\", \"blue\"]\n",
        "}\n",
        "\n",
        "print(thisdict)\n",
        "print(len(thisdict))\n",
        "print(thisdict[\"colors\"])\n",
        "\n",
        "for car in thisdict:\n",
        "    values = thisdict[car]\n",
        "    print('This car  %s is %s ' % (car, values))"
      ],
      "execution_count": 41,
      "outputs": [
        {
          "output_type": "stream",
          "text": [
            "{'brand': 'Ford', 'electric': False, 'year': 1964, 'colors': ['red', 'white', 'blue']}\n",
            "4\n",
            "['red', 'white', 'blue']\n",
            "This car  brand is Ford \n",
            "This car  electric is False \n",
            "This car  year is 1964 \n",
            "This car  colors is ['red', 'white', 'blue'] \n"
          ],
          "name": "stdout"
        }
      ]
    },
    {
      "cell_type": "markdown",
      "metadata": {
        "id": "_EcneaCQsuhJ"
      },
      "source": [
        "## Exercise\n",
        "\n",
        "Loop over this dictionary to print \n",
        "\n",
        "\"A person has 2 legs\", \"A cat has 4 legs\", \"A spider has 8 legs\""
      ]
    },
    {
      "cell_type": "code",
      "metadata": {
        "id": "FKJ1-_V-s5xh"
      },
      "source": [
        "anim = ['cat', 'dog', 'monkey']\n",
        "d = {'person': 2, 'cat': 4, 'spider': 8}\n",
        "\n",
        "# Prints Dict Loops\n",
        "#for animal in d:\n",
        "#    legs = d[animal]\n",
        "#    print('A %s has %d legs' % (animal, legs))\n",
        "\n",
        "# Prints List Loops\n",
        "for animal in anim:\n",
        "    print(animal)"
      ],
      "execution_count": null,
      "outputs": []
    },
    {
      "cell_type": "code",
      "metadata": {
        "id": "ed9ATZZos7Kc"
      },
      "source": [
        ""
      ],
      "execution_count": null,
      "outputs": []
    },
    {
      "cell_type": "markdown",
      "metadata": {
        "id": "iWSfLKmCuJHA"
      },
      "source": [
        "# Functions"
      ]
    },
    {
      "cell_type": "code",
      "metadata": {
        "id": "yYXaq7l4uOGi"
      },
      "source": [
        "def sign(x):\n",
        "    if x > 0:\n",
        "        return 'positive'\n",
        "    elif x < 0:\n",
        "        return 'negative'\n",
        "    else:\n",
        "        return 'zero'\n",
        "\n",
        "for x in [-1, 0, 1]:\n",
        "    print(sign(x))\n",
        "# Prints \"negative\", \"zero\", \"positive\""
      ],
      "execution_count": null,
      "outputs": []
    },
    {
      "cell_type": "code",
      "metadata": {
        "id": "ijJiK7c-uTt6"
      },
      "source": [
        "def hello(name, loud=False):\n",
        "    if loud:\n",
        "        print('HELLO, %s!' % name.upper())\n",
        "    else:\n",
        "        print('Hello, %s' % name)\n",
        "\n",
        "hello('Bob') # Prints \"Hello, Bob\"\n",
        "hello('Fred', loud=True)  # Prints \"HELLO, FRED!\""
      ],
      "execution_count": null,
      "outputs": []
    },
    {
      "cell_type": "markdown",
      "metadata": {
        "id": "AHIM9XuhuV7b"
      },
      "source": [
        "## Exercise\n",
        "\n",
        "Create a function that prints a list "
      ]
    },
    {
      "cell_type": "code",
      "metadata": {
        "id": "xZ5zdovtuVkC"
      },
      "source": [
        ""
      ],
      "execution_count": null,
      "outputs": []
    },
    {
      "cell_type": "markdown",
      "metadata": {
        "id": "npZVw_zfuOuz"
      },
      "source": [
        "# Classes"
      ]
    },
    {
      "cell_type": "code",
      "metadata": {
        "id": "sX6rVpNqugvS"
      },
      "source": [
        "class Greeter(object):\n",
        "\n",
        "    # Constructor\n",
        "    def __init__(self, name):\n",
        "        self.name = name  # Create an instance variable\n",
        "\n",
        "    # Instance method\n",
        "    def greet(self, loud=False):\n",
        "        if loud:\n",
        "            print('HELLO, %s!' % self.name.upper())\n",
        "        else:\n",
        "            print('Hello, %s' % self.name)\n",
        "\n",
        "g = Greeter('Fred')  # Construct an instance of the Greeter class\n",
        "g.greet()            # Call an instance method; prints \"Hello, Fred\"\n",
        "g.greet(loud=True)   # Call an instance method; prints \"HELLO, FRED!\""
      ],
      "execution_count": null,
      "outputs": []
    }
  ]
}