{
  "nbformat": 4,
  "nbformat_minor": 0,
  "metadata": {
    "colab": {
      "provenance": [],
      "include_colab_link": true
    },
    "kernelspec": {
      "name": "python3",
      "display_name": "Python 3"
    },
    "language_info": {
      "name": "python"
    }
  },
  "cells": [
    {
      "cell_type": "markdown",
      "metadata": {
        "id": "view-in-github",
        "colab_type": "text"
      },
      "source": [
        "<a href=\"https://colab.research.google.com/github/Jan03/DLIP-src/blob/main/tutorial_pythonnumpy/Tutorial_PythonBasics_2022_ipynb%EC%9D%98_%EC%82%AC%EB%B3%B8_%E3%85%85%E3%84%B7%E3%84%B4%E3%85%85.ipynb\" target=\"_parent\"><img src=\"https://colab.research.google.com/assets/colab-badge.svg\" alt=\"Open In Colab\"/></a>"
      ]
    },
    {
      "cell_type": "markdown",
      "metadata": {
        "id": "2JDAQN5DXIO7"
      },
      "source": [
        "## Exercise 3\n",
        "### Create functions that return min/max elements and their index.\n",
        "\n",
        "* Input argument is a List\n",
        "* save these functions in a module \"myDLIP.py\"\n",
        "\n",
        "``` \n",
        "  import myDLIP as dp \n",
        "\n",
        "  a = [1,2,3, 4, -1, 5, 2]\n",
        "\n",
        "  print(dp.minVal(a))\n",
        "  print(dp.maxVal(a))\n",
        "  print(dp.minIdx(a))\n",
        "  print(dp.maxIdx(a))\n"
      ]
    }
  ]
}