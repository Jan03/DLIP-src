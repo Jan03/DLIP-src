{
  "nbformat": 4,
  "nbformat_minor": 0,
  "metadata": {
    "colab": {
      "name": "Tutorial_PyTorch_MNIST_MLP_Part1_Train.ipynb",
      "provenance": [],
      "authorship_tag": "ABX9TyOLk/yJ9bK9nHsxKsvdmQOb",
      "include_colab_link": true
    },
    "kernelspec": {
      "name": "python3",
      "display_name": "Python 3"
    },
    "language_info": {
      "name": "python"
    }
  },
  "cells": [
    {
      "cell_type": "markdown",
      "metadata": {
        "id": "view-in-github",
        "colab_type": "text"
      },
      "source": [
        "<a href=\"https://colab.research.google.com/github/ykkimhgu/DLIP-src/blob/main/Tutorial_PyTorch_MNIST_MLP_Part1_Train.ipynb\" target=\"_parent\"><img src=\"https://colab.research.google.com/assets/colab-badge.svg\" alt=\"Open In Colab\"/></a>"
      ]
    },
    {
      "cell_type": "markdown",
      "metadata": {
        "id": "d0yKMyUBeU3P"
      },
      "source": [
        "# **DLIP Tutorial - PyTorch**\n",
        "\n",
        "## MNIST Classification using PyTorch \n",
        "Y.-K. Kim\n",
        "(created 2021. 5. 3) \n",
        "(updated 2022. 2. 15) \n",
        "\n"
      ]
    },
    {
      "cell_type": "markdown",
      "source": [
        "The purpose of this tutorial is to learn how to build a simple Multi-Layer Percentron (MLP or ANN) for classification of handwritting digits (MNIST)\n",
        "\n",
        "==================="
      ],
      "metadata": {
        "id": "ZO152O2SzILP"
      }
    },
    {
      "cell_type": "markdown",
      "metadata": {
        "id": "3lHqSoDaeUSs"
      },
      "source": [
        "## Setup Pytorch and Numpy and GPU"
      ]
    },
    {
      "cell_type": "code",
      "source": [
        "import torch \n",
        "import torch.nn as nn\n",
        "import torch.nn.functional as F\n",
        "import torchvision\n",
        "import torchvision.transforms as transforms\n",
        "print(torch.__version__)\n",
        "import numpy as np "
      ],
      "metadata": {
        "colab": {
          "base_uri": "https://localhost:8080/"
        },
        "id": "y228XLuj1215",
        "outputId": "46767815-1b31-4e62-acbd-22cd6fbd870c"
      },
      "execution_count": 54,
      "outputs": [
        {
          "output_type": "stream",
          "name": "stdout",
          "text": [
            "1.10.0+cu111\n"
          ]
        }
      ]
    },
    {
      "cell_type": "code",
      "source": [
        "# Get cpu or gpu device for training.\n",
        "device = \"cuda\" if torch.cuda.is_available() else \"cpu\"\n",
        "print(f\"Using {device} device\")"
      ],
      "metadata": {
        "colab": {
          "base_uri": "https://localhost:8080/"
        },
        "id": "shdSXuyuE1rJ",
        "outputId": "4ac19d45-8223-4df7-c1c9-8d91f8d3f0dd"
      },
      "execution_count": 5,
      "outputs": [
        {
          "output_type": "stream",
          "name": "stdout",
          "text": [
            "Using cpu device\n"
          ]
        }
      ]
    },
    {
      "cell_type": "markdown",
      "metadata": {
        "id": "blEBaK0ugMUS"
      },
      "source": [
        "## Prepare Datasets\n",
        "### OpenDataset from TorchVision"
      ]
    },
    {
      "cell_type": "markdown",
      "metadata": {
        "id": "y0odtPtd2bzl"
      },
      "source": [
        "\n",
        "1. Loading OpenDataset (Fashion MNIST) from Pytorch data\n",
        "* ``Dataset``:  stores the samples and their corresponding labels\n",
        "* ``DataLoader`` wraps an iterable around the ``Dataset``.\n"
      ]
    },
    {
      "cell_type": "code",
      "execution_count": 3,
      "metadata": {
        "id": "Syszi5NQ2bzm"
      },
      "outputs": [],
      "source": [
        "from torch.utils.data import DataLoader\n",
        "from torchvision import datasets\n",
        "from torchvision.transforms import ToTensor\n"
      ]
    },
    {
      "cell_type": "code",
      "execution_count": null,
      "metadata": {
        "id": "r8PiOEFx2bzn"
      },
      "outputs": [],
      "source": [
        "# Download training data from open datasets.\n",
        "training_data = datasets.MNIST(\n",
        "    root=\"data\",\n",
        "    train=True,\n",
        "    download=True,\n",
        "    transform=ToTensor(),   #converts 0~255 value to 0~1 value.\n",
        ")\n",
        "\n",
        "# Download test data from open datasets.\n",
        "test_data = datasets.MNIST(\n",
        "    root=\"data\",\n",
        "    train=False,\n",
        "    download=True,\n",
        "    transform=ToTensor(),\n",
        ")"
      ]
    },
    {
      "cell_type": "markdown",
      "metadata": {
        "id": "Uel8Ptvr2bzo"
      },
      "source": [
        "2. Use  ``DataLoader`` to  make dataset iterable.\n",
        "* supports automatic batching, sampling, shuffling and multiprocess data loading. \n",
        "\n"
      ]
    },
    {
      "cell_type": "code",
      "execution_count": 7,
      "metadata": {
        "id": "zdFdt1pe2bzo",
        "colab": {
          "base_uri": "https://localhost:8080/"
        },
        "outputId": "31d160c7-ae30-49bc-c936-b6176ddea0c2"
      },
      "outputs": [
        {
          "output_type": "stream",
          "name": "stdout",
          "text": [
            "Shape of X [N, C, H, W]: torch.Size([64, 1, 28, 28])\n",
            "Shape of y: torch.Size([64]) torch.int64\n"
          ]
        }
      ],
      "source": [
        "batch_size = 64\n",
        "\n",
        "# Create data loaders.\n",
        "train_dataloader = DataLoader(training_data, batch_size=batch_size)\n",
        "test_dataloader = DataLoader(test_data, batch_size=batch_size)\n",
        "\n",
        "for X, y in test_dataloader:\n",
        "    print(f\"Shape of X [N, C, H, W]: {X.shape}\")\n",
        "    print(f\"Shape of y: {y.shape} {y.dtype}\")\n",
        "    break"
      ]
    },
    {
      "cell_type": "markdown",
      "source": [
        "3. Plot some training data\n"
      ],
      "metadata": {
        "id": "QQ7CqtrmG0mp"
      }
    },
    {
      "cell_type": "code",
      "source": [
        "import matplotlib.pyplot as plt\n",
        "\n",
        "dataiter = iter(train_dataloader)\n",
        "images, labels = dataiter.next()\n",
        "\n",
        "figure = plt.figure()\n",
        "num_of_images = 9\n",
        "for index in range(num_of_images):\n",
        "    plt.subplot(3, 3, index+1)\n",
        "    plt.axis('off')    \n",
        "    plt.title(\"Ground Truth: {}\".format(labels[index]))\n",
        "    plt.imshow(images[index].numpy().squeeze(), cmap='gray_r')"
      ],
      "metadata": {
        "id": "ccpGGs8dG4dR"
      },
      "execution_count": null,
      "outputs": []
    },
    {
      "cell_type": "markdown",
      "source": [
        "# Define model\n",
        "\n",
        "create a class that inherits from nn.Module\n",
        "\n",
        "\n",
        "* Define the layers of the network in  __init__ function\n",
        "* Specify Forward network in the **forward function.**"
      ],
      "metadata": {
        "id": "slHZqHyYFZ7p"
      }
    },
    {
      "cell_type": "markdown",
      "source": [
        "![](https://github.com/bentrevett/pytorch-image-classification/blob/master/assets/mlp-mnist.png?raw=1)\n",
        "\n",
        "\n",
        "* Image Input: 1x28x28  image\n",
        "* Flatten into a 1*784 element vector\n",
        "* 1st Layer: linear to 250 dimensions / ReLU\n",
        "* 2nd Layer: linear to 100 dim / ReLU\n",
        "* 3rd Layer: linear to 10 dim / log SoftMax\n",
        "* Output:  1x10 \n",
        "\n",
        "Actication function: ReLU\n",
        "\n",
        "**NOTE**\n",
        "\n",
        "\n",
        "1) nn.Linear(InputDim, OutputDim)\n",
        "\n",
        "\n",
        "2) x.view( )\n",
        "* Similar to  NumPy Reshape(). /// [batch size, height * width]"
      ],
      "metadata": {
        "id": "wZw6AmlIk3OD"
      }
    },
    {
      "cell_type": "code",
      "source": [
        "# Define model\n",
        "class MLP(nn.Module):\n",
        "    def __init__(self):\n",
        "        super(MLP, self).__init__()\n",
        "        self.flatten = nn.Flatten()\n",
        "        self.linear1 = nn.Linear(28*28, 250)\n",
        "        self.linear2 = nn.Linear(250, 100)\n",
        "        self.linear3 = nn.Linear(100, 10)\n",
        "\n",
        "        \n",
        "    def forward(self, x):\n",
        "        x=self.flatten(x)\n",
        "        x= F.relu(self.linear1(x))\n",
        "        x = F.relu(self.linear2(x))\n",
        "        y_pred = F.log_softmax(self.linear3(x))\n",
        "        return y_pred\n",
        "\n",
        "\n",
        "model = MLP().to(device)\n",
        "print(model)"
      ],
      "metadata": {
        "colab": {
          "base_uri": "https://localhost:8080/"
        },
        "id": "lfyWWHhon11D",
        "outputId": "cd9f866c-ea93-4834-9dbe-d378bd6d3e7a"
      },
      "execution_count": 57,
      "outputs": [
        {
          "output_type": "stream",
          "name": "stdout",
          "text": [
            "MLP(\n",
            "  (flatten): Flatten(start_dim=1, end_dim=-1)\n",
            "  (linear1): Linear(in_features=784, out_features=250, bias=True)\n",
            "  (linear2): Linear(in_features=250, out_features=100, bias=True)\n",
            "  (linear3): Linear(in_features=100, out_features=10, bias=True)\n",
            ")\n"
          ]
        }
      ]
    },
    {
      "cell_type": "markdown",
      "metadata": {
        "id": "0fDrJCT_esSf"
      },
      "source": [
        "## Weight Initialization\n",
        " In Keras, dense layers by default uses “glorot_uniform” random initializer, it is also called Xavier normal initializer."
      ]
    },
    {
      "cell_type": "markdown",
      "metadata": {
        "id": "Z5SxTs1he7Df"
      },
      "source": [
        "# Optimization Setup  \n",
        "\n",
        "### Optmizer function \n",
        " Gradient descent is the common optimisation strategy used in neural networks. Many of the variants and advanced optimisation functions now are available, \n",
        "  \n",
        "- Stochastic Gradient Descent, Adagrade, Adam, etc"
      ]
    },
    {
      "cell_type": "markdown",
      "metadata": {
        "id": "Hy9dBZlSeyxh"
      },
      "source": [
        "### Loss function\n",
        "\n",
        "1. Linear regression->Mean Squared Error\n",
        "2. Classification->Cross entropy, "
      ]
    },
    {
      "cell_type": "code",
      "metadata": {
        "id": "be3HOqoeipmU"
      },
      "source": [
        "loss_fn = nn.CrossEntropyLoss()\n",
        "optimizer = torch.optim.SGD(model.parameters(), lr=1e-3)"
      ],
      "execution_count": 14,
      "outputs": []
    },
    {
      "cell_type": "markdown",
      "metadata": {
        "id": "LZS7b363jAzB"
      },
      "source": [
        "# Train the model\n",
        "### Define train() function \n",
        "Reuse this function in other tutorials\n"
      ]
    },
    {
      "cell_type": "code",
      "metadata": {
        "id": "tweilksdivvD"
      },
      "source": [
        "def train(dataloader, model, loss_fn, optimizer):\n",
        "    size = len(dataloader.dataset)\n",
        "    model.train()\n",
        "    for batch, (X, y) in enumerate(dataloader):\n",
        "        X, y = X.to(device), y.to(device)\n",
        "\n",
        "        # Compute prediction error\n",
        "        pred = model(X)\n",
        "        loss = loss_fn(pred, y)\n",
        "\n",
        "        # Backpropagation\n",
        "        optimizer.zero_grad()\n",
        "        loss.backward()\n",
        "        optimizer.step()\n",
        "\n",
        "        if batch % 100 == 0:\n",
        "            loss, current = loss.item(), batch * len(X)\n",
        "            print(f\"loss: {loss:>7f}  [{current:>5d}/{size:>5d}]\")"
      ],
      "execution_count": 12,
      "outputs": []
    },
    {
      "cell_type": "markdown",
      "source": [
        "### Train \n",
        "Print training process"
      ],
      "metadata": {
        "id": "QQ6lGq6UJPVw"
      }
    },
    {
      "cell_type": "code",
      "source": [
        "epochs = 2\n",
        "for t in range(epochs):\n",
        "    print(f\"Epoch {t+1}\\n-------------------------------\")\n",
        "    train(train_dataloader, model, loss_fn, optimizer)    \n",
        "print(\"Done!\")"
      ],
      "metadata": {
        "id": "5--jTU4tJS0Y"
      },
      "execution_count": null,
      "outputs": []
    },
    {
      "cell_type": "markdown",
      "metadata": {
        "id": "T9JJWT1A8zvX"
      },
      "source": [
        "# Test the model  ``eval()`` \n",
        "\n",
        "### Define **test()** function \n",
        "Using ``eval()`` for test. Evaluate mode로 전환\n",
        "This function can be reused in other tutorials"
      ]
    },
    {
      "cell_type": "code",
      "metadata": {
        "id": "xvmC5oFs72SC"
      },
      "source": [
        "def test(dataloader, model, loss_fn):\n",
        "    size = len(dataloader.dataset)\n",
        "    num_batches = len(dataloader)\n",
        "    model.eval()\n",
        "    test_loss, correct = 0, 0\n",
        "    with torch.no_grad():\n",
        "        for X, y in dataloader:\n",
        "            X, y = X.to(device), y.to(device)\n",
        "            pred = model(X)\n",
        "            y_pred=pred.argmax(1);\n",
        "            test_loss += loss_fn(pred, y).item()\n",
        "            correct += (y_pred == y).type(torch.float).sum().item()\n",
        "            \n",
        "    test_loss /= num_batches\n",
        "    correct /= size\n",
        "    print(f\"Test Error: \\n Accuracy: {(100*correct):>0.1f}%, Avg loss: {test_loss:>8f} \\n\")\n"
      ],
      "execution_count": 47,
      "outputs": []
    },
    {
      "cell_type": "markdown",
      "source": [
        "(Option 2) Returning y_prediction "
      ],
      "metadata": {
        "id": "892HwJbW76r0"
      }
    },
    {
      "cell_type": "code",
      "source": [
        "def get_predictions(dataloader, model, loss_fn):\n",
        "    images = []\n",
        "    labels = []\n",
        "    y_preds = []\n",
        "\n",
        "    size = len(dataloader.dataset)\n",
        "    num_batches = len(dataloader)\n",
        "    model.eval()\n",
        "    test_loss, correct = 0, 0\n",
        "    with torch.no_grad():\n",
        "        for X, y in dataloader:\n",
        "            X, y = X.to(device), y.to(device)\n",
        "            pred = model(X)\n",
        "            y_pred=pred.argmax(1);\n",
        "            test_loss += loss_fn(pred, y).item()\n",
        "            correct += (y_pred == y).type(torch.float).sum().item()\n",
        "\n",
        "            # .cpu() GPU 메모리에서 cpu 메모리로 복사 및 Append\n",
        "            images.append(X.cpu())    \n",
        "            labels.append(y.cpu())\n",
        "            y_preds.append(y_pred.cpu())\n",
        "            \n",
        "    images = torch.cat(images, dim=0)\n",
        "    labels = torch.cat(labels, dim=0)\n",
        "    y_preds = torch.cat(y_preds, dim=0)\n",
        "\n",
        "    return images, labels, y_preds"
      ],
      "metadata": {
        "id": "PRcTznsH7fjk"
      },
      "execution_count": 55,
      "outputs": []
    },
    {
      "cell_type": "markdown",
      "metadata": {
        "id": "Lc_uKTg685fR"
      },
      "source": [
        "### Test \n",
        "Print test data accuracy "
      ]
    },
    {
      "cell_type": "code",
      "metadata": {
        "colab": {
          "base_uri": "https://localhost:8080/"
        },
        "id": "3AyUVhP58U4W",
        "outputId": "0a1f3ca4-f6fa-4cb0-988b-f61199c24fd5"
      },
      "source": [
        "epochs = 2\n",
        "for t in range(epochs):\n",
        "    print(f\"Epoch {t+1}\\n-------------------------------\")\n",
        "    test(test_dataloader, model, loss_fn)\n",
        "print(\"Done!\")"
      ],
      "execution_count": 58,
      "outputs": [
        {
          "output_type": "stream",
          "name": "stdout",
          "text": [
            "Epoch 1\n",
            "-------------------------------\n"
          ]
        },
        {
          "output_type": "stream",
          "name": "stderr",
          "text": [
            "/usr/local/lib/python3.7/dist-packages/ipykernel_launcher.py:15: UserWarning: Implicit dimension choice for log_softmax has been deprecated. Change the call to include dim=X as an argument.\n",
            "  from ipykernel import kernelapp as app\n"
          ]
        },
        {
          "output_type": "stream",
          "name": "stdout",
          "text": [
            "Test Error: \n",
            " Accuracy: 10.0%, Avg loss: 2.300260 \n",
            "\n",
            "Epoch 2\n",
            "-------------------------------\n",
            "Test Error: \n",
            " Accuracy: 10.0%, Avg loss: 2.300260 \n",
            "\n",
            "Done!\n"
          ]
        }
      ]
    },
    {
      "cell_type": "markdown",
      "source": [
        "### Visualize test results\n",
        "\n",
        "Select random test images and evaluate"
      ],
      "metadata": {
        "id": "7reJNX_fMgwG"
      }
    },
    {
      "cell_type": "code",
      "source": [
        "# Get some random test  images // BatchSize at a time\n",
        "dataiter = iter(test_dataloader)\n",
        "images, labels = dataiter.next()\n",
        "print(images.size())\n",
        "\n",
        "\n",
        "# Evaluate mode로 전환\n",
        "# Prediction of some sample images \n",
        "with torch.no_grad():\n",
        "  for X, y in dataiter:\n",
        "      X, y = X.to(device), y.to(device)\n",
        "      pred = model(X)\n",
        "      _, predicted = torch.max(pred.data, 1)\n"
      ],
      "metadata": {
        "colab": {
          "base_uri": "https://localhost:8080/"
        },
        "id": "zpVhWXBYMlYh",
        "outputId": "ca332027-e51a-4632-92b9-be0bcfd9be1b"
      },
      "execution_count": 39,
      "outputs": [
        {
          "output_type": "stream",
          "name": "stdout",
          "text": [
            "torch.Size([64, 1, 28, 28])\n",
            "<torch.utils.data.dataloader._SingleProcessDataLoaderIter object at 0x7f4c652e3810>\n"
          ]
        },
        {
          "output_type": "execute_result",
          "data": {
            "text/plain": [
              "tensor([1, 2, 3, 4, 3, 6, 7, 3, 4, 0, 1, 2, 3, 9, 8, 6])"
            ]
          },
          "metadata": {},
          "execution_count": 39
        }
      ]
    },
    {
      "cell_type": "markdown",
      "source": [
        "Plot some test image results"
      ],
      "metadata": {
        "id": "J8Lnx8mKRo_c"
      }
    },
    {
      "cell_type": "code",
      "source": [
        "figure = plt.figure()\n",
        "num_of_images = 9\n",
        "for index in range(num_of_images):\n",
        "    plt.subplot(3, 3, index+1)\n",
        "    plt.axis('off')    \n",
        "    plt.title(\"Predicted: {}\".format(predicted[index].item()))\n",
        "    plt.imshow(images[index].cpu().numpy().squeeze(), cmap='gray_r')"
      ],
      "metadata": {
        "colab": {
          "base_uri": "https://localhost:8080/",
          "height": 264
        },
        "id": "PUfby6DlRoXW",
        "outputId": "2dd5d6ea-1c9b-4f6e-e7ce-550d6fcef775"
      },
      "execution_count": 32,
      "outputs": [
        {
          "output_type": "display_data",
          "data": {
            "image/png": "[encoded data removed]",
            "text/plain": [
              "<Figure size 432x288 with 9 Axes>"
            ]
          },
          "metadata": {
            "needs_background": "light"
          }
        }
      ]
    },
    {
      "cell_type": "markdown",
      "source": [
        "# Saving Models\n",
        "(Option 1) Save Model with Shapes\n",
        "* save the structure of this class together with the model"
      ],
      "metadata": {
        "id": "s1Y-krgJinAp"
      }
    },
    {
      "cell_type": "code",
      "source": [
        "torch.save(model,\"MNIST_model.pth\")"
      ],
      "metadata": {
        "colab": {
          "base_uri": "https://localhost:8080/"
        },
        "id": "_f9tXsz9KxDx",
        "outputId": "a4319e72-c21c-4a3f-9600-fa08c662fa09"
      },
      "execution_count": 44,
      "outputs": [
        {
          "output_type": "stream",
          "name": "stdout",
          "text": [
            "Saved PyTorch Model State\n"
          ]
        }
      ]
    },
    {
      "cell_type": "markdown",
      "source": [
        "(Option 2) Save Model Weight as  state dictionary "
      ],
      "metadata": {
        "id": "a-K0cBwkK1OI"
      }
    },
    {
      "cell_type": "code",
      "source": [
        "torch.save(model.state_dict(), \"MNIST_model2.pth\")\n",
        "print(\"Saved PyTorch Model State\")"
      ],
      "metadata": {
        "id": "69luqmxDgkqK"
      },
      "execution_count": null,
      "outputs": []
    },
    {
      "cell_type": "markdown",
      "source": [
        "\n",
        "\n",
        "---\n",
        "\n"
      ],
      "metadata": {
        "id": "dBdmu3Z4K3LZ"
      }
    },
    {
      "cell_type": "markdown",
      "metadata": {
        "id": "xi-1ht0d-SbX"
      },
      "source": [
        "# Exercise"
      ]
    },
    {
      "cell_type": "markdown",
      "metadata": {
        "id": "_irKEtZP9bmB"
      },
      "source": [
        "\n",
        "## Exercise 1\n",
        "Change , activation functions and optimization types for a better output."
      ]
    },
    {
      "cell_type": "markdown",
      "metadata": {
        "id": "qSVSgxzq-GbI"
      },
      "source": [
        "## Exercise 2\n",
        "Rewrite  the above MLP model as the following. \n",
        "\n",
        "![](https://raw.githubusercontent.com/dmlc/web-data/master/mxnet/image/mlp_mnist.png)\n",
        "\n"
      ]
    }
  ]
}