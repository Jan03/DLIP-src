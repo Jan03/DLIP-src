{
  "nbformat": 4,
  "nbformat_minor": 0,
  "metadata": {
    "colab": {
      "name": "Exercise_Classification_Keras 2021",
      "provenance": [],
      "collapsed_sections": [],
      "toc_visible": true,
      "include_colab_link": true
    },
    "kernelspec": {
      "name": "python3",
      "display_name": "Python 3"
    },
    "language_info": {
      "name": "python"
    }
  },
  "cells": [
    {
      "cell_type": "markdown",
      "metadata": {
        "id": "view-in-github",
        "colab_type": "text"
      },
      "source": [
        "<a href=\"https://colab.research.google.com/github/ykkimhgu/DLIP-src/blob/main/Exercise_Classification_Keras_2021.ipynb\" target=\"_parent\"><img src=\"https://colab.research.google.com/assets/colab-badge.svg\" alt=\"Open In Colab\"/></a>"
      ]
    },
    {
      "cell_type": "markdown",
      "metadata": {
        "id": "d0yKMyUBeU3P"
      },
      "source": [
        "# **DLIP: Classification Exercise**\n",
        "# Classify images using Keras\n",
        "(updated 2021-Spring) \n",
        "\n",
        "\n",
        "---\n",
        "\n"
      ]
    },
    {
      "cell_type": "markdown",
      "metadata": {
        "id": "YtzOPeGbU2VF"
      },
      "source": [
        "**Problem:** Download the test images from Hisnet. \n",
        "Classify these images (Top-1 accuracy) correctly and display the output. \n",
        "* ALLOWED: DLIP tutorials & assignments, Keras webpage Only.\n",
        "https://keras.io/api/\n",
        "\n",
        "* DO NOT USE any other online material. No internet searching.\n",
        "* You have 30 min to display the answer\n",
        "* You can use any pretrained CNN model provided by Keras\n",
        "https://keras.io/api/applications/\n",
        "* You can either program this in Colab or in V.S Code.\n",
        "* Submit the notebook with results shown. \n",
        "\n",
        "---\n"
      ]
    },
    {
      "cell_type": "code",
      "metadata": {
        "id": "URXVsGhzU1kd"
      },
      "source": [
        "# ADD YOUR CODE HERE\n",
        "import tensorflow as tf\n"
      ],
      "execution_count": null,
      "outputs": []
    }
  ]
}