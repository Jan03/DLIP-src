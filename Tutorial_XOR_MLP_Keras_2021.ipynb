{
  "nbformat": 4,
  "nbformat_minor": 0,
  "metadata": {
    "colab": {
      "name": "Tutorial_XOR_MLP_Keras 2021",
      "provenance": [],
      "authorship_tag": "ABX9TyNXPbq/LxWfaCPtqZVuxbaL",
      "include_colab_link": true
    },
    "kernelspec": {
      "name": "python3",
      "display_name": "Python 3"
    },
    "language_info": {
      "name": "python"
    }
  },
  "cells": [
    {
      "cell_type": "markdown",
      "metadata": {
        "id": "view-in-github",
        "colab_type": "text"
      },
      "source": [
        "<a href=\"https://colab.research.google.com/github/ykkimhgu/DLIP-src/blob/main/Tutorial_XOR_MLP_Keras_2021.ipynb\" target=\"_parent\"><img src=\"https://colab.research.google.com/assets/colab-badge.svg\" alt=\"Open In Colab\"/></a>"
      ]
    },
    {
      "cell_type": "markdown",
      "metadata": {
        "id": "d0yKMyUBeU3P"
      },
      "source": [
        "# **DLIP TutorialL  MLP using Numpy**\n",
        "## XOR problem using Numpy\n",
        "Y.-K. Kim\n",
        "(updated 2021. 5. 3) \n",
        "\n",
        "Also, refer to  https://keras.io/guides/sequential_model/"
      ]
    },
    {
      "cell_type": "markdown",
      "metadata": {
        "id": "3lHqSoDaeUSs"
      },
      "source": [
        "## Import Keras and Numpy"
      ]
    },
    {
      "cell_type": "code",
      "metadata": {
        "colab": {
          "base_uri": "https://localhost:8080/"
        },
        "id": "K5fya61jgJdH",
        "outputId": "23d77678-2c78-4245-e79d-7b1f3583b894"
      },
      "source": [
        "import tensorflow as tf\n",
        "print(tf.__version__)\n",
        "\n",
        "from tensorflow import keras\n",
        "from tensorflow.keras import layers\n",
        "print(keras.__version__)\n",
        "\n",
        "from keras.models import Sequential\n",
        "from keras.layers.core import Dense, Activation\n",
        "from keras.optimizers import SGD\n",
        "import numpy as np "
      ],
      "execution_count": 1,
      "outputs": [
        {
          "output_type": "stream",
          "text": [
            "2.4.1\n",
            "2.4.0\n"
          ],
          "name": "stdout"
        }
      ]
    },
    {
      "cell_type": "markdown",
      "metadata": {
        "id": "blEBaK0ugMUS"
      },
      "source": [
        "## Prepare Datasets: Input and Output"
      ]
    },
    {
      "cell_type": "code",
      "metadata": {
        "id": "k-y8FgqUgRIU"
      },
      "source": [
        "# Input Data :  4 datasets of [x1,x2]\n",
        "X = np.array([[0,0],[0,1],[1,0],[1,1]])\n",
        "\n",
        "# True value(label)\n",
        "y = np.array([[0],[1],[1],[0]])"
      ],
      "execution_count": 2,
      "outputs": []
    },
    {
      "cell_type": "markdown",
      "metadata": {
        "id": "GevhdEZPgq70"
      },
      "source": [
        "## Build MLP model\n",
        "Dense(  )\n",
        "\n",
        "Input shape: \n",
        "\n",
        "N-D tensor with shape: (batch_size, ..., input_dim). The most common situation would be a 2D input with shape (batch_size, input_dim).\n",
        "\n",
        "Output shape: \n",
        "\n",
        "N-D tensor with shape: (batch_size, ..., units). For instance, for a 2D input with shape (batch_size, input_dim), the output would have shape (batch_size, units).\n",
        "\n",
        "\n",
        "```\n",
        "tf.keras.layers.Dense(\n",
        "    units,\n",
        "    activation=None,\n",
        "    use_bias=True,\n",
        "    kernel_initializer=\"glorot_uniform\",\n",
        "    bias_initializer=\"zeros\",\n",
        "    kernel_regularizer=None,\n",
        "    bias_regularizer=None,\n",
        "    activity_regularizer=None,\n",
        "    kernel_constraint=None,\n",
        "    bias_constraint=None,\n",
        "    **kwargs\n",
        ")\n",
        "\n",
        "units: Positive integer, dimensionality of the output space.\n",
        "```"
      ]
    },
    {
      "cell_type": "code",
      "metadata": {
        "colab": {
          "base_uri": "https://localhost:8080/"
        },
        "id": "64u7OXJrhwdN",
        "outputId": "a9112f6e-5a49-4ff5-e8e2-b45ea3844fd6"
      },
      "source": [
        "model = Sequential()\n",
        "model.add(Dense(4, input_dim=2))  # 4 nodes out\n",
        "model.add(Activation('sigmoid'))\n",
        "\n",
        "\n",
        "model.add(Dense(1))  # 1 node out\n",
        "model.add(Activation('sigmoid'))\n",
        "\n",
        "print(len(model.layers))  \n",
        "model.summary()"
      ],
      "execution_count": 3,
      "outputs": [
        {
          "output_type": "stream",
          "text": [
            "4\n",
            "Model: \"sequential\"\n",
            "_________________________________________________________________\n",
            "Layer (type)                 Output Shape              Param #   \n",
            "=================================================================\n",
            "dense (Dense)                (None, 4)                 12        \n",
            "_________________________________________________________________\n",
            "activation (Activation)      (None, 4)                 0         \n",
            "_________________________________________________________________\n",
            "dense_1 (Dense)              (None, 1)                 5         \n",
            "_________________________________________________________________\n",
            "activation_1 (Activation)    (None, 1)                 0         \n",
            "=================================================================\n",
            "Total params: 17\n",
            "Trainable params: 17\n",
            "Non-trainable params: 0\n",
            "_________________________________________________________________\n"
          ],
          "name": "stdout"
        }
      ]
    },
    {
      "cell_type": "markdown",
      "metadata": {
        "id": "B0TPo2hqen7X"
      },
      "source": [
        "## Activation function\n",
        "\n",
        "For exercise, we have used  \"sigmoid\" for the activation function. \n",
        "You may change the function to \"tanh\", “relu”, \"leaky-relu\"  for hidden layer and “sigmoid” for output layer.\n",
        "\n",
        "```\n",
        "model.add(Activation('tanh'))\n",
        "```"
      ]
    },
    {
      "cell_type": "markdown",
      "metadata": {
        "id": "0fDrJCT_esSf"
      },
      "source": [
        "## Weight Initialization\n",
        " In Keras, dense layers by default uses “glorot_uniform” random initializer, it is also called Xavier normal initializer."
      ]
    },
    {
      "cell_type": "markdown",
      "metadata": {
        "id": "Z5SxTs1he7Df"
      },
      "source": [
        "## Optimizer function\n",
        " Gradient descent is the common optimisation strategy used in neural networks. Many of the variants and advanced optimisation functions now are available, \n",
        "  \n",
        "- Stochastic Gradient Descent[sgd]\n",
        "- Adagrad\n",
        "- Adamax\n",
        "- RMSprop\n",
        "- Adam   (Keras default optimizer)"
      ]
    },
    {
      "cell_type": "markdown",
      "metadata": {
        "id": "Hy9dBZlSeyxh"
      },
      "source": [
        "## Loss function\n",
        "\n",
        "Example:\n",
        "1. Linear regression->Mean Squared Error\n",
        "2. Classification->Cross entropy"
      ]
    },
    {
      "cell_type": "code",
      "metadata": {
        "id": "be3HOqoeipmU"
      },
      "source": [
        "sgd = SGD(lr=0.1)\n",
        "model.compile(loss='binary_crossentropy', optimizer=sgd, metrics=[\"accuracy\"])"
      ],
      "execution_count": 4,
      "outputs": []
    },
    {
      "cell_type": "markdown",
      "metadata": {
        "id": "LZS7b363jAzB"
      },
      "source": [
        "## Train the model\n",
        "fit method\n",
        "```\n",
        "Model.fit(\n",
        "    x=None,\n",
        "    y=None,\n",
        "    batch_size=None,\n",
        "    epochs=1,\n",
        "    verbose=1,\n",
        "    callbacks=None,\n",
        "    validation_split=0.0,\n",
        "    validation_data=None,\n",
        "    shuffle=True,\n",
        "    class_weight=None,\n",
        "    sample_weight=None,\n",
        "    initial_epoch=0,\n",
        "    steps_per_epoch=None,\n",
        "    validation_steps=None,\n",
        "    validation_batch_size=None,\n",
        "    validation_freq=1,\n",
        "    max_queue_size=10,\n",
        "    workers=1,\n",
        "    use_multiprocessing=False,\n",
        ")\n",
        "```"
      ]
    },
    {
      "cell_type": "code",
      "metadata": {
        "id": "tweilksdivvD"
      },
      "source": [
        "model.fit(X, y, batch_size=1, epochs=1000)\n",
        "print(model.predict_proba(X))"
      ],
      "execution_count": null,
      "outputs": []
    },
    {
      "cell_type": "markdown",
      "metadata": {
        "id": "T9JJWT1A8zvX"
      },
      "source": [
        "## Inference (Predict)\n",
        "\n",
        "For a large scale input data use:"
      ]
    },
    {
      "cell_type": "code",
      "metadata": {
        "colab": {
          "base_uri": "https://localhost:8080/",
          "height": 125
        },
        "id": "xvmC5oFs72SC",
        "outputId": "ac78880c-a5c5-4b94-f6ef-f00667b9034e"
      },
      "source": [
        "predictions = model.predict(X)\n",
        "print(\"Predicted outputs are \\n\")\n",
        "print(predictions)"
      ],
      "execution_count": 14,
      "outputs": [
        {
          "output_type": "display_data",
          "data": {
            "text/plain": [
              "(4, 1)"
            ]
          },
          "metadata": {
            "tags": []
          }
        },
        {
          "output_type": "stream",
          "text": [
            "This image is 89.03 percent cat and 10.97 percent dog.\n",
            "[[0.10967615]\n",
            " [0.81422687]\n",
            " [0.9021059 ]\n",
            " [0.14576948]]\n"
          ],
          "name": "stdout"
        }
      ]
    },
    {
      "cell_type": "markdown",
      "metadata": {
        "id": "Lc_uKTg685fR"
      },
      "source": [
        "For a small number of inputs, use : model(x)"
      ]
    },
    {
      "cell_type": "code",
      "metadata": {
        "colab": {
          "base_uri": "https://localhost:8080/"
        },
        "id": "3AyUVhP58U4W",
        "outputId": "8e0c7d55-ade7-41b5-98eb-f7a9a554fa19"
      },
      "source": [
        "print(\"Predicted outputs are \\n\")\n",
        "print(model(X))\n",
        "\n",
        "print(\"Labeled outputs are \\n\",y)"
      ],
      "execution_count": 16,
      "outputs": [
        {
          "output_type": "stream",
          "text": [
            "Predicted outputs are \n",
            " [[0]\n",
            " [1]\n",
            " [1]\n",
            " [0]]\n",
            "tf.Tensor(\n",
            "[[0.10967618]\n",
            " [0.81422687]\n",
            " [0.9021059 ]\n",
            " [0.14576948]], shape=(4, 1), dtype=float32)\n",
            "Labeled outputs are \n",
            " [[0]\n",
            " [1]\n",
            " [1]\n",
            " [0]]\n"
          ],
          "name": "stdout"
        }
      ]
    },
    {
      "cell_type": "markdown",
      "metadata": {
        "id": "xi-1ht0d-SbX"
      },
      "source": [
        "# Exercise"
      ]
    },
    {
      "cell_type": "markdown",
      "metadata": {
        "id": "qSVSgxzq-GbI"
      },
      "source": [
        "## Exercise 1\n",
        "Rewrite  the above MLP model as the following form \n",
        "\n",
        "```\n",
        "# Define Sequential model with 3 layers\n",
        "model = keras.Sequential(\n",
        "    [\n",
        "        layers.Dense(2, activation=\"relu\", name=\"layer1\"),\n",
        "        layers.Dense(3, activation=\"relu\", name=\"layer2\"),\n",
        "        layers.Dense(4, name=\"layer3\"),\n",
        "    ]\n",
        ")\n",
        "# Call model on the input\n",
        "y = model(x)\n",
        "```"
      ]
    },
    {
      "cell_type": "markdown",
      "metadata": {
        "id": "_irKEtZP9bmB"
      },
      "source": [
        "\n",
        "## Exercise 2\n",
        "Change the MLP model layers, activation functions and optimization types for a better output."
      ]
    }
  ]
}